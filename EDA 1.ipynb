{
 "cells": [
  {
   "cell_type": "markdown",
   "source": [
    "# New York AirBnB Exploratory data analysis  \r\n",
    "An exercise developed for CodeOp Module 3 milestone  \r\n",
    "\r\n",
    "- Author: Margherita Serena Ferrara  \r\n",
    "- Date: 25/11/2023  \r\n",
    "- Contact: margheritaserena.ferrara@gmail.com"
   ],
   "metadata": {}
  },
  {
   "cell_type": "markdown",
   "source": [
    "[introduction]\r\n",
    "- data source\r\n",
    "- type of analysis performed\r\n",
    "-- sections"
   ],
   "metadata": {}
  },
  {
   "cell_type": "markdown",
   "source": [
    "[main findings]"
   ],
   "metadata": {}
  },
  {
   "cell_type": "markdown",
   "source": [
    "[Set up]"
   ],
   "metadata": {}
  },
  {
   "cell_type": "code",
   "execution_count": null,
   "source": [
    "# Import revelant packages\r\n",
    "import pandas as pd\r\n",
    "from matplotlib import pyplot as plt\r\n",
    "import seaborn as sns\r\n",
    "import folium\r\n",
    "import os"
   ],
   "outputs": [],
   "metadata": {}
  },
  {
   "cell_type": "code",
   "execution_count": null,
   "source": [
    "# Get folder paths\r\n",
    "analysis_directory = os.getcwd()\r\n",
    "parent_folder = os.path.dirname(analysis_directory)"
   ],
   "outputs": [],
   "metadata": {}
  },
  {
   "cell_type": "markdown",
   "source": [
    "## Section 1: Import data & clean data\r\n",
    "\r\n",
    "[which files we import]"
   ],
   "metadata": {}
  },
  {
   "cell_type": "markdown",
   "source": [
    "### Listings  \r\n",
    "[dataset shoudl contain all listings in Milan]"
   ],
   "metadata": {}
  },
  {
   "cell_type": "markdown",
   "source": [
    "#### Import dataset"
   ],
   "metadata": {}
  },
  {
   "cell_type": "code",
   "execution_count": null,
   "source": [
    "listings = pd.read_csv(parent_folder+'/MI AirBnB - dataset/listings.csv', delimiter = ',')"
   ],
   "outputs": [],
   "metadata": {}
  },
  {
   "cell_type": "markdown",
   "source": [
    "#### Explore data available\r\n",
    "[identify varuiables of interest,\r\n",
    "check whether variables need cleaning (NAs, weird symbols, convert in str/date etc)\r\n",
    "]"
   ],
   "metadata": {}
  },
  {
   "cell_type": "code",
   "execution_count": null,
   "source": [
    "# Explore the data\r\n",
    "listings.info()"
   ],
   "outputs": [],
   "metadata": {}
  },
  {
   "cell_type": "markdown",
   "source": [
    "##### Unique identifier  \r\n",
    "[helpful to have unique identifier in teh dataset.\r\n",
    "expert to be id]\r\n",
    "we know there are 24177 entries"
   ],
   "metadata": {}
  },
  {
   "cell_type": "code",
   "execution_count": null,
   "source": [
    "listings['id'].nunique() == listings.shape[0]"
   ],
   "outputs": [],
   "metadata": {}
  },
  {
   "cell_type": "markdown",
   "source": [
    "#### Missing values\r\n",
    "[description]"
   ],
   "metadata": {}
  },
  {
   "cell_type": "markdown",
   "source": [
    "##### Drop fully missing variables\r\n",
    "info() suggests that some variables are fully missing (such as neighbourhood). \r\n",
    "We drop these."
   ],
   "metadata": {}
  },
  {
   "cell_type": "code",
   "execution_count": null,
   "source": [
    "listings = listings.dropna(axis=1, how='all')"
   ],
   "outputs": [],
   "metadata": {}
  },
  {
   "cell_type": "markdown",
   "source": [
    "##### Explore other variables that contain NAs"
   ],
   "metadata": {}
  },
  {
   "cell_type": "code",
   "execution_count": null,
   "source": [
    "listings.columns[listings.isna().any()]"
   ],
   "outputs": [],
   "metadata": {}
  },
  {
   "cell_type": "markdown",
   "source": [
    "One of the variables that contain NA values is 'bedrooms'\r\n",
    "Explore this further"
   ],
   "metadata": {}
  },
  {
   "cell_type": "code",
   "execution_count": null,
   "source": [
    "listings['bedrooms'].value_counts(dropna=False)\r\n"
   ],
   "outputs": [],
   "metadata": {}
  },
  {
   "cell_type": "markdown",
   "source": [
    "5430 listings are registered with 0 bedrooms.\r\n",
    "AirBnB website allows to select listings that have 1 or more bedrooms. 1 bedrooms listings also include studios.\r\n",
    "> Decision: drop these observations"
   ],
   "metadata": {}
  },
  {
   "cell_type": "code",
   "execution_count": null,
   "source": [
    "#Store these observations in another dataset\r\n",
    "listings_no_bedroom = listings[listings['bedrooms'].isna()]\r\n",
    "\r\n",
    "listings = listings.dropna(subset=['bedrooms'])\r\n",
    "# Check that observations have been dropped\r\n",
    "listings[listings['bedrooms'].isna()]"
   ],
   "outputs": [],
   "metadata": {}
  },
  {
   "cell_type": "markdown",
   "source": [
    "Go back to list of NA variables"
   ],
   "metadata": {}
  },
  {
   "cell_type": "code",
   "execution_count": null,
   "source": [
    "listings.columns[listings.isna().any()]"
   ],
   "outputs": [],
   "metadata": {}
  },
  {
   "cell_type": "markdown",
   "source": [
    "they seem okay"
   ],
   "metadata": {}
  },
  {
   "cell_type": "markdown",
   "source": [
    "#### Format variables\r\n",
    "[description]"
   ],
   "metadata": {}
  },
  {
   "cell_type": "markdown",
   "source": [
    "based on listings info notice two formatting to do:\r\n",
    "price\r\n",
    "calendar_last_scraped - not interested  \r\n",
    "\r\n",
    "we explore price"
   ],
   "metadata": {}
  },
  {
   "cell_type": "code",
   "execution_count": null,
   "source": [
    "listings['price']"
   ],
   "outputs": [],
   "metadata": {}
  },
  {
   "cell_type": "markdown",
   "source": [
    "need to remove dollar sign and convert into float"
   ],
   "metadata": {}
  },
  {
   "cell_type": "code",
   "execution_count": null,
   "source": [
    "listings['price'] = listings['price'].str.replace('$', '')\r\n",
    "# The variable price can't be immediately converted as float because the symbol ',' is not considered numerical.\r\n",
    "listings['price'] = listings['price'].str.replace(',', '').astype(float)\r\n",
    "\r\n",
    "# Note: quicker way to achieve this would have been with \r\n",
    "#   calendar['adjusted_price'] = calendar['adjusted_price'].replace('[$,]', '', regex=True).astype(float)"
   ],
   "outputs": [],
   "metadata": {}
  },
  {
   "cell_type": "markdown",
   "source": [
    "[conclusion: initial data cleaning of dataset listings is completed]"
   ],
   "metadata": {}
  },
  {
   "cell_type": "markdown",
   "source": [
    "### Calendar"
   ],
   "metadata": {}
  },
  {
   "cell_type": "markdown",
   "source": [
    "#### Import dataset"
   ],
   "metadata": {}
  },
  {
   "cell_type": "code",
   "execution_count": null,
   "source": [
    "calendar = pd.read_csv(parent_folder+'/MI AirBnB - dataset/calendar.csv')"
   ],
   "outputs": [],
   "metadata": {}
  },
  {
   "cell_type": "markdown",
   "source": [
    "#### Explore data available"
   ],
   "metadata": {}
  },
  {
   "cell_type": "code",
   "execution_count": null,
   "source": [
    "calendar.info()"
   ],
   "outputs": [],
   "metadata": {}
  },
  {
   "cell_type": "code",
   "execution_count": null,
   "source": [
    "# Price, price_adjusted and date are identified as objects\r\n",
    "calendar.head()"
   ],
   "outputs": [],
   "metadata": {}
  },
  {
   "cell_type": "markdown",
   "source": [
    "#### Unique identifiers\r\n",
    "This case probably not\r\n",
    "check that listing_id is not missing"
   ],
   "metadata": {}
  },
  {
   "cell_type": "code",
   "execution_count": null,
   "source": [
    "calendar[calendar['listing_id'].isna()]"
   ],
   "outputs": [],
   "metadata": {}
  },
  {
   "cell_type": "markdown",
   "source": [
    "No obs with missing id - good"
   ],
   "metadata": {}
  },
  {
   "cell_type": "code",
   "execution_count": null,
   "source": [
    "calendar['listing_id'].nunique()"
   ],
   "outputs": [],
   "metadata": {}
  },
  {
   "cell_type": "markdown",
   "source": [
    "#### Missing values"
   ],
   "metadata": {}
  },
  {
   "cell_type": "code",
   "execution_count": null,
   "source": [
    "columns_with_na = calendar.columns[calendar.isna().any()]\r\n",
    "\r\n",
    "print(columns_with_na)"
   ],
   "outputs": [],
   "metadata": {}
  },
  {
   "cell_type": "markdown",
   "source": [
    "##### Drop fully missing variables"
   ],
   "metadata": {}
  },
  {
   "cell_type": "code",
   "execution_count": null,
   "source": [
    "calendar = calendar.dropna(axis=1, how='all')\r\n",
    "calendar.info()"
   ],
   "outputs": [],
   "metadata": {}
  },
  {
   "cell_type": "markdown",
   "source": [
    "calendar.info() shows that no variable was fully missing.\r\n",
    "However, some variables have na values(). we explore them"
   ],
   "metadata": {}
  },
  {
   "cell_type": "markdown",
   "source": [
    "##### Explore other variables that contain NAs"
   ],
   "metadata": {}
  },
  {
   "cell_type": "markdown",
   "source": [
    "look at how many observations are missing"
   ],
   "metadata": {}
  },
  {
   "cell_type": "code",
   "execution_count": null,
   "source": [
    "calendar[columns_with_na].isna().sum()"
   ],
   "outputs": [],
   "metadata": {}
  },
  {
   "cell_type": "markdown",
   "source": [
    "a relatively small amount of observations have nas.\r\n",
    "Given taht we plan to merge this dataset with the listings one that contains these variables as well it's okay."
   ],
   "metadata": {}
  },
  {
   "cell_type": "markdown",
   "source": [
    "#### Format variables"
   ],
   "metadata": {}
  },
  {
   "cell_type": "markdown",
   "source": [
    "price and date variables need formatting"
   ],
   "metadata": {}
  },
  {
   "cell_type": "code",
   "execution_count": null,
   "source": [
    "calendar['price'] = calendar['price'].replace('[$,]', '', regex=True).astype(float)\r\n",
    "calendar['adjusted_price'] = calendar['adjusted_price'].replace('[$,]', '', regex=True).astype(float)\r\n",
    "calendar['date'] = pd.to_datetime(calendar['date'], format = \"%Y-%m-%d\")\r\n",
    "calendar.info()"
   ],
   "outputs": [],
   "metadata": {}
  },
  {
   "cell_type": "markdown",
   "source": [
    "calendar.info()shows that the conversion worked"
   ],
   "metadata": {}
  },
  {
   "cell_type": "markdown",
   "source": [
    "[data cleaning done - for now]"
   ],
   "metadata": {}
  },
  {
   "cell_type": "markdown",
   "source": [
    "## Section 2: Merge datasets"
   ],
   "metadata": {}
  },
  {
   "cell_type": "markdown",
   "source": [
    "first rename variable in listings"
   ],
   "metadata": {}
  },
  {
   "cell_type": "code",
   "execution_count": null,
   "source": [
    "listings = listings.rename(columns={'id': 'listing_id'})"
   ],
   "outputs": [],
   "metadata": {}
  },
  {
   "cell_type": "markdown",
   "source": [
    "merge on variable listin_id"
   ],
   "metadata": {}
  },
  {
   "cell_type": "code",
   "execution_count": null,
   "source": [
    "mi_listings = pd.merge(listings, calendar, on='listing_id', how='outer', indicator=True)"
   ],
   "outputs": [],
   "metadata": {}
  },
  {
   "cell_type": "markdown",
   "source": [
    "how many observations were in common?\r\n",
    "compare number of unique ids in the two datasets with those in the initial ones\r\n",
    "mi_listings willhave same as listings\r\n",
    "what about calendar?"
   ],
   "metadata": {}
  },
  {
   "cell_type": "code",
   "execution_count": null,
   "source": [
    "mi_listings['_merge'].value_counts()"
   ],
   "outputs": [],
   "metadata": {}
  },
  {
   "cell_type": "markdown",
   "source": [
    "keep only vars in common`"
   ],
   "metadata": {}
  },
  {
   "cell_type": "code",
   "execution_count": null,
   "source": [
    "# Extract calendar only data\r\n",
    "right_only_data = mi_listings[mi_listings['_merge'] == 'right_only']['listing_id']"
   ],
   "outputs": [],
   "metadata": {}
  },
  {
   "cell_type": "code",
   "execution_count": null,
   "source": [
    "mi_listings = mi_listings[mi_listings['_merge'] == 'both']"
   ],
   "outputs": [],
   "metadata": {}
  },
  {
   "cell_type": "markdown",
   "source": [
    "### Cross checks"
   ],
   "metadata": {}
  },
  {
   "cell_type": "markdown",
   "source": [
    "The additional listings in calendar are those of the observations we dropped with 0 bedrooms?\r\n",
    "we check this comparing listings_no_bedroom and calendar"
   ],
   "metadata": {}
  },
  {
   "cell_type": "code",
   "execution_count": null,
   "source": [
    "listings_no_bedroom = listings_no_bedroom.rename(columns={'id': 'listing_id'})\r\n",
    "listings_no_bedroom_calendar = pd.merge(\r\n",
    "    listings_no_bedroom['listing_id'], right_only_data,\r\n",
    "    on = 'listing_id', how ='outer', indicator = True\r\n",
    "    )"
   ],
   "outputs": [],
   "metadata": {}
  },
  {
   "cell_type": "code",
   "execution_count": null,
   "source": [
    "listings_no_bedroom_calendar['_merge'].value_counts()"
   ],
   "outputs": [],
   "metadata": {}
  },
  {
   "cell_type": "markdown",
   "source": [
    "conclusion: ids dropped bc of no bedrooms\r\n",
    "same things with code below:\r\n",
    "[listings_2 = listings_2.rename(columns = {'id':'listing_id'})\r\n",
    "merge = pd.merge(\r\n",
    "    listings_2['listing_id'], calendar,\r\n",
    "    on = 'listing_id', how ='outer', indicator = True\r\n",
    "    )\r\n",
    "    listings_2 = pd.read_csv(parent_folder+'/MI AirBnB - dataset/listings.csv', delimiter = ',')\r\n",
    "\r\n",
    "    merge['_merge'].unique()\r\n",
    "    \r\n",
    "    ]"
   ],
   "metadata": {}
  },
  {
   "cell_type": "markdown",
   "source": [
    "## Section 3: Exploratory data analysis"
   ],
   "metadata": {}
  },
  {
   "cell_type": "markdown",
   "source": [
    "- first on separate datasets\r\n",
    "- what are the min and max data?\r\n",
    "- what is the distr of prices of listings?\r\n",
    "- have they changed over time?"
   ],
   "metadata": {}
  },
  {
   "cell_type": "markdown",
   "source": [
    "- price - histogram \r\n",
    "- price box plot - outliers?\r\n",
    " \r\n",
    "- price over time\r\n",
    "```\r\n",
    "# Set the size of the figure\r\n",
    "plt.figure(figsize=(20, 8))\r\n",
    "\r\n",
    "sns.lineplot(\r\n",
    "    data = calendar,\r\n",
    "    x = \"date\",\r\n",
    "    y = \"price\"\r\n",
    ")\r\n",
    "# Note: the line shows confidence interval and median\r\n",
    "```  \r\n",
    "- price per room type and number of beds\r\n",
    "```\r\n",
    "sns.boxplot(data = listings,\r\n",
    "           y = 'price', \r\n",
    "           hue = 'room_type')\r\n",
    "\r\n",
    "sns.boxplot(\r\n",
    "    data = listings,\r\n",
    "    x = 'bedrooms', \r\n",
    "    y = 'price')\r\n",
    "```\r\n",
    "- price and amenities (do charts in same figure)\r\n",
    "```\r\n",
    "# First, define the \"subplot\".\r\n",
    "fig, axes = plt.subplots(\r\n",
    "    nrows=2, \r\n",
    "    ncols=3,\r\n",
    "    figsize=(20,6)\r\n",
    ")\r\n",
    "\r\n",
    "# Let's add a general title.\r\n",
    "fig.suptitle(\"Three graphs of the Iris dataset\")\r\n",
    "\r\n",
    "# Add graphs at particular locations.\r\n",
    "sns.histplot(\r\n",
    "    data = data,\r\n",
    "    x = \"sepal_length\",\r\n",
    "    ax = axes[0,0]\r\n",
    "    # Note: need to specify box row and column in ax to specify which chart is updated\r\n",
    ")\r\n",
    "\r\n",
    "```\r\n",
    "-- possible charts for this\r\n",
    "\r\n",
    "\r\n",
    "sns.boxplot(data = listings,\r\n",
    "           y = 'price', \r\n",
    "           x = 'air_conditioning')\r\n",
    "```\r\n",
    "- distr of id in neighbourhoods - bar charts + geography  \r\n",
    "- distr of price in neighbourhoods  \r\n",
    "\r\n",
    "- price and n reviews and scores\r\n",
    "```\r\n",
    "listings[['price', 'number_of_reviews', 'review_scores_rating']].corr()\r\n",
    "```"
   ],
   "metadata": {}
  },
  {
   "cell_type": "markdown",
   "source": [],
   "metadata": {}
  }
 ],
 "metadata": {
  "orig_nbformat": 4,
  "language_info": {
   "name": "python",
   "version": "3.11.5",
   "mimetype": "text/x-python",
   "codemirror_mode": {
    "name": "ipython",
    "version": 3
   },
   "pygments_lexer": "ipython3",
   "nbconvert_exporter": "python",
   "file_extension": ".py"
  },
  "kernelspec": {
   "name": "python3",
   "display_name": "Python 3.11.5 64-bit"
  },
  "interpreter": {
   "hash": "db9488d60064b9c00b1d85e65f0bd4899f120d78174508ac096c991592dcd9da"
  }
 },
 "nbformat": 4,
 "nbformat_minor": 2
}